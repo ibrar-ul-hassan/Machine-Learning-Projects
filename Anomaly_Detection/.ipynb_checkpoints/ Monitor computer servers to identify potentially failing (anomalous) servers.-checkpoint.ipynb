{
 "cells": [
  {
   "cell_type": "markdown",
   "id": "f8727151",
   "metadata": {},
   "source": [
    "# Outline\n",
    "\n",
    "- [ 1 - Packages ](#1)\n",
    "- [ 2 - Anomaly Detection](#2)\n",
    "    - [ 2.1 - Problem Statement](#2.1)\n",
    "    - [ 2.2 - Dataset](#2.2)"
   ]
  },
  {
   "cell_type": "markdown",
   "id": "9e6df1ab",
   "metadata": {},
   "source": [
    "<a name=\"1\"></a>\n",
    "# 1 - Packages"
   ]
  },
  {
   "cell_type": "code",
   "execution_count": 10,
   "id": "beddc3d1",
   "metadata": {},
   "outputs": [],
   "source": [
    "import numpy as np\n",
    "import pandas as pd\n",
    "import matplotlib.pyplot as plt"
   ]
  },
  {
   "cell_type": "markdown",
   "id": "6c21d23d",
   "metadata": {},
   "source": [
    "<a name=\"2\"></a>\n",
    "# 2 - Anomaly Detectiom"
   ]
  },
  {
   "cell_type": "markdown",
   "id": "f071e1ed",
   "metadata": {},
   "source": [
    "<a name=\"2.1\"></a>\n",
    "## 2.1 Problem Statement\n",
    "\n",
    "In this project, you will implement an anomaly detection algorithm to detect anomalous behavior in server computers.\n",
    "\n",
    "**The dataset contains two features:-**\n",
    "- throughput (mb/s) and\n",
    "- latency (ms) of response of each server\n",
    "\n",
    "**While your servers were operating**, you collected $m=307$ examples of how they were behaving, and thus have an unlabeled dataset $\\{x^{(1)}, \\ldots, x^{(m)}\\}$.\n",
    "- You suspect that the vast majority of these examples are “normal” (non-anomalous) examples of the servers operating normally, but there might also be some examples of servers acting anomalously within this dataset.\n",
    "\n",
    "**You will use a Gaussian model** to detect anomalous examples in your\n",
    "dataset. \n",
    "* You will first start on a 2D dataset that will allow you to visualize what the algorithm is doing.\n",
    "* On that dataset you will fit a Gaussian distribution and then find values that have very low probability and hence can be considered anomalies. \n",
    "* After that, you will apply the anomaly detection algorithm to a larger dataset with many dimensions. \n"
   ]
  },
  {
   "cell_type": "markdown",
   "id": "408d8f70",
   "metadata": {},
   "source": [
    "<a name=\"2.2\"></a>\n",
    "# 2.2 Dataset"
   ]
  },
  {
   "cell_type": "code",
   "execution_count": 11,
   "id": "50a926d0",
   "metadata": {},
   "outputs": [],
   "source": [
    "def load_data():\n",
    "    X = np.load(\"Data/X_part1.npy\")\n",
    "    X_val = np.load(\"Data/X_val_part1.npy\")\n",
    "    y_val = np.load(\"Data/y_val_part1.npy\")\n",
    "    return X, X_val, y_val"
   ]
  },
  {
   "cell_type": "code",
   "execution_count": 12,
   "id": "fbf6125c",
   "metadata": {},
   "outputs": [],
   "source": [
    "# Load the dataset\n",
    "X_train, X_val, y_val = load_data()"
   ]
  },
  {
   "cell_type": "code",
   "execution_count": 14,
   "id": "5122cb46",
   "metadata": {},
   "outputs": [
    {
     "name": "stdout",
     "output_type": "stream",
     "text": [
      "The first five elements of X_train are:\n",
      " [[13.04681517 14.74115241]\n",
      " [13.40852019 13.7632696 ]\n",
      " [14.19591481 15.85318113]\n",
      " [14.91470077 16.17425987]\n",
      " [13.57669961 14.04284944]]\n"
     ]
    }
   ],
   "source": [
    "# Display the first five elemets fo the dataset\n",
    "print(\"The first five elements of X_train are:\\n\", X_train[:5])"
   ]
  },
  {
   "cell_type": "code",
   "execution_count": 15,
   "id": "d6b0f487",
   "metadata": {},
   "outputs": [
    {
     "name": "stdout",
     "output_type": "stream",
     "text": [
      "The first elements of X_val are:\n",
      " [[15.79025979 14.9210243 ]\n",
      " [13.63961877 15.32995521]\n",
      " [14.86589943 16.47386514]\n",
      " [13.58467605 13.98930611]\n",
      " [13.46404167 15.63533011]]\n"
     ]
    }
   ],
   "source": [
    "# Display the first five elements of X_val\n",
    "print(\"The first elements of X_val are:\\n\", X_val[:5])"
   ]
  },
  {
   "cell_type": "code",
   "execution_count": 17,
   "id": "86259060",
   "metadata": {},
   "outputs": [
    {
     "name": "stdout",
     "output_type": "stream",
     "text": [
      "The first five elements of y_val are:\n",
      " [0 0 0 0 0]\n"
     ]
    }
   ],
   "source": [
    "# Display the first five elements of y_Val\n",
    "print(\"The first five elements of y_val are:\\n\", y_val[:5])"
   ]
  },
  {
   "cell_type": "code",
   "execution_count": 18,
   "id": "111a272b",
   "metadata": {},
   "outputs": [
    {
     "name": "stdout",
     "output_type": "stream",
     "text": [
      "the shape of X_train is:  (307, 2)\n",
      "the shape of X_val is:  (307, 2)\n",
      "the shape of y_val is:  (307,)\n"
     ]
    }
   ],
   "source": [
    "# Checking the dimensions of our data\n",
    "print(\"the shape of X_train is: \", X_train.shape)\n",
    "print(\"the shape of X_val is: \", X_val.shape)\n",
    "print(\"the shape of y_val is: \", y_val.shape)"
   ]
  },
  {
   "cell_type": "code",
   "execution_count": null,
   "id": "7f8443e3",
   "metadata": {},
   "outputs": [],
   "source": []
  }
 ],
 "metadata": {
  "kernelspec": {
   "display_name": "Python 3 (ipykernel)",
   "language": "python",
   "name": "python3"
  },
  "language_info": {
   "codemirror_mode": {
    "name": "ipython",
    "version": 3
   },
   "file_extension": ".py",
   "mimetype": "text/x-python",
   "name": "python",
   "nbconvert_exporter": "python",
   "pygments_lexer": "ipython3",
   "version": "3.11.2"
  }
 },
 "nbformat": 4,
 "nbformat_minor": 5
}
