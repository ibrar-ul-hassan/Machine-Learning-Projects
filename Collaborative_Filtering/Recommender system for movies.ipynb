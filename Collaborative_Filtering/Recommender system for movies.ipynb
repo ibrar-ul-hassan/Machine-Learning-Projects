{
 "cells": [
  {
   "cell_type": "markdown",
   "id": "a8381cde",
   "metadata": {},
   "source": [
    "# Collaborative Filtering Recommender Systems\n",
    "\n",
    "In this project, we will implement collaborative filtering to build a recommender system for movies.\n",
    "\n",
    "# Outline\n",
    "\n",
    "- [1 - Notation](#1)\n",
    "- [2 - Recommender Systems](#2)\n",
    "- [3 - Movie ratings dataset](#3)\n",
    "- [4 - Collaborative filtering learning algortim](#4)\n",
    "    - [4.1 - Cost Function](#4.1)\n",
    "- [5 - Learning movie recommendations](#5)\n",
    "- [6 - Recommensations](#6)"
   ]
  },
  {
   "cell_type": "markdown",
   "id": "dafe0c19",
   "metadata": {},
   "source": [
    "# Packages\n"
   ]
  },
  {
   "cell_type": "code",
   "execution_count": null,
   "id": "4299d02e",
   "metadata": {},
   "outputs": [],
   "source": [
    "import numpy as np\n",
    "import tensorflow as tf\n",
    "from tensorflow import keras"
   ]
  },
  {
   "cell_type": "markdown",
   "id": "cd3a3be0",
   "metadata": {},
   "source": [
    "<a name=\"1\"></a>\n",
    "# 1 - Notation"
   ]
  },
  {
   "cell_type": "markdown",
   "id": "3fb73e47",
   "metadata": {},
   "source": [
    "<figure>\n",
    "    <img src=\"./images/Notation.PNG\", style=\"width=150px, height=500px\">\n",
    "</figure>"
   ]
  },
  {
   "cell_type": "markdown",
   "id": "881ea127",
   "metadata": {},
   "source": [
    "<a name=\"2\"></a>\n",
    "# 2 - Recommender Systems"
   ]
  },
  {
   "cell_type": "markdown",
   "id": "409bfe5c",
   "metadata": {},
   "source": [
    "You will implement the collaborative filtering learning algorithm and apply it to a dataset of movie ratings. The goal of a collaborative filtering recommender system is to generate two vectors: For each user, a 'parameter vector' that embodies the movie tastes of a user. For each movie, a feature vector of the same size which embodies some description of the movie. The dot product of the two vectors plus the bias term should produce an estimate of the rating the user might give to that movie.\n",
    "\n",
    "The diagram below details how these vectors are learned.\n",
    "\n",
    "<figure>\n",
    "    <img src=\"./images/ColabFilterLearn.PNG\" style=\"width=500, height=150\">\n",
    "</figure>\n",
    "\n",
    "Existing ratings are provided in matrix form as shown. $Y$ contains ratings; 0.5 to 5 inclusive in 0.5 steps. 0 if the movie has not been rated. $R$ has a 1 where movies have been rated. Movies are in rows, users in columns. Each user has a parameter vector $w^{user}$ and bias. Each movie has a feature vector $x^{movie}$. These vectors are simultaneously learned by using the existing user/movie ratings as training data. One training example is shown above: $\\mathbf{w}^{(1)} \\cdot \\mathbf{x}^{(1)} + b^{(1)} = 4$. It is worth noting that the feature vector $x^{movie}$ must satisfy all the users while the user vector $w^{user}$ must satisfy all the movies. This is the source of the name of this approach - all the users collaborate to generate the rating set. \n",
    "\n",
    "<figure>\n",
    "    <img src=\"./images/ColabFilterLearn.PNG\" style=\"width=500, height=150\" >\n",
    "</figure>\n",
    "\n",
    "Once the feature vectors and parameters are learned, they can be used to predict how a user might rate an unrated movie. This is shown in the diagram above. The equation is an example of predicting a rating for user one on movie zero.\n",
    "\n",
    "In this project, you will implement the function `cofiCostFunc` that computes the collaborative filtering objective function. After implementing the objective function, you will use a TensorFlow custom training loop to learn the parameters for collaborative filtering. The first step is to detail the data set and data structures that will be used in this project."
   ]
  },
  {
   "cell_type": "markdown",
   "id": "bf1b7697",
   "metadata": {},
   "source": [
    "<a name=\"3\"></a>\n",
    "# 3 - Movie ratings dataset"
   ]
  },
  {
   "cell_type": "code",
   "execution_count": null,
   "id": "3e9b61c7",
   "metadata": {},
   "outputs": [],
   "source": []
  }
 ],
 "metadata": {
  "kernelspec": {
   "display_name": "Python 3 (ipykernel)",
   "language": "python",
   "name": "python3"
  },
  "language_info": {
   "codemirror_mode": {
    "name": "ipython",
    "version": 3
   },
   "file_extension": ".py",
   "mimetype": "text/x-python",
   "name": "python",
   "nbconvert_exporter": "python",
   "pygments_lexer": "ipython3",
   "version": "3.10.10"
  }
 },
 "nbformat": 4,
 "nbformat_minor": 5
}
