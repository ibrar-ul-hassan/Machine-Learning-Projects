{
 "cells": [
  {
   "cell_type": "markdown",
   "id": "a52337e4",
   "metadata": {},
   "source": [
    "# Collaborative Filtering Recommender Systems\n",
    "\n",
    "In this project, we will implement collaborative filtering to build a recommender system for movies.\n",
    "\n",
    "# Outline\n",
    "\n",
    "- [1 - Notation](#1)\n",
    "- [2 - Recommender Systems](#2)\n",
    "- [3 - Movie ratings dataset](#3)\n",
    "- [4 - Collaborative filtering learning algortim](#4)\n",
    "    - [4.1 - Cost Function](#4.1)\n",
    "- [5 - Learning movie recommendations](#5)\n",
    "- [6 - Recommensations](#6)"
   ]
  },
  {
   "cell_type": "markdown",
   "id": "5c6dd86b",
   "metadata": {},
   "source": [
    "# Packages"
   ]
  },
  {
   "cell_type": "code",
   "execution_count": null,
   "id": "dc732ac9",
   "metadata": {},
   "outputs": [],
   "source": [
    "import numpy as np\n",
    "import tensorflow as tf\n",
    "from tensorflow import keras"
   ]
  },
  {
   "cell_type": "code",
   "execution_count": null,
   "id": "5bcd4151",
   "metadata": {},
   "outputs": [],
   "source": []
  }
 ],
 "metadata": {
  "kernelspec": {
   "display_name": "Python 3 (ipykernel)",
   "language": "python",
   "name": "python3"
  },
  "language_info": {
   "codemirror_mode": {
    "name": "ipython",
    "version": 3
   },
   "file_extension": ".py",
   "mimetype": "text/x-python",
   "name": "python",
   "nbconvert_exporter": "python",
   "pygments_lexer": "ipython3",
   "version": "3.10.10"
  }
 },
 "nbformat": 4,
 "nbformat_minor": 5
}
