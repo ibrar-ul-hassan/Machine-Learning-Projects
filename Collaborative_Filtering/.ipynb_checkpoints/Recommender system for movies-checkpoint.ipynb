{
 "cells": [
  {
   "cell_type": "markdown",
   "id": "6b9b8bb5",
   "metadata": {},
   "source": [
    "# Collaborative Filtering Recommender Systems\n",
    "\n",
    "In this project, we will implement collaborative filtering to build a recommender system for movies.\n",
    "\n",
    "# Outline\n",
    "\n",
    "- [1 - Notation](#1)\n",
    "- [2 - Recommender Systems](#2)\n",
    "- [3 - Movie ratings dataset](#3)\n",
    "- [4 - Collaborative filtering learning algortim](#4)\n",
    "    - [4.1 - Cost Function](#4.1)\n",
    "- [5 - Learning movie recommendations](#5)\n",
    "- [6 - Recommensations](#6)"
   ]
  },
  {
   "cell_type": "markdown",
   "id": "ead638d0",
   "metadata": {},
   "source": [
    "# Packages\n"
   ]
  },
  {
   "cell_type": "code",
   "execution_count": null,
   "id": "277373c0",
   "metadata": {},
   "outputs": [],
   "source": [
    "import numpy as np\n",
    "import tensorflow as tf\n",
    "from tensorflow import keras"
   ]
  },
  {
   "cell_type": "markdown",
   "id": "cefd3a1d",
   "metadata": {},
   "source": [
    "<a name=\"1\"></a>\n",
    "# 1 - Notation"
   ]
  },
  {
   "cell_type": "markdown",
   "id": "a7a8b7bf",
   "metadata": {},
   "source": [
    "<figure>\n",
    "    <img src=\"./images/Notation.PNG\", style=\"width=150px, height=500px\">\n",
    "</figure>"
   ]
  },
  {
   "cell_type": "markdown",
   "id": "215a24b6",
   "metadata": {},
   "source": [
    "<a name=\"2\"></a>\n",
    "# 2 - Recommender Systems"
   ]
  },
  {
   "cell_type": "code",
   "execution_count": null,
   "id": "e1199060",
   "metadata": {},
   "outputs": [],
   "source": []
  }
 ],
 "metadata": {
  "kernelspec": {
   "display_name": "Python 3 (ipykernel)",
   "language": "python",
   "name": "python3"
  },
  "language_info": {
   "codemirror_mode": {
    "name": "ipython",
    "version": 3
   },
   "file_extension": ".py",
   "mimetype": "text/x-python",
   "name": "python",
   "nbconvert_exporter": "python",
   "pygments_lexer": "ipython3",
   "version": "3.10.10"
  }
 },
 "nbformat": 4,
 "nbformat_minor": 5
}
