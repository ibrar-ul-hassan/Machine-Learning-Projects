{
 "cells": [
  {
   "cell_type": "code",
   "execution_count": 3,
   "id": "352413aa",
   "metadata": {},
   "outputs": [],
   "source": [
    "#First, import the required packages:\n",
    "import numpy as np\n",
    "from sklearn.linear_model import LinearRegression"
   ]
  },
  {
   "cell_type": "code",
   "execution_count": 6,
   "id": "ddf720a2",
   "metadata": {},
   "outputs": [],
   "source": [
    "#Now, provide the values for independent variable X:\n",
    "X =  np.array([[1,1],[1,2],[2,2],[2,3]])"
   ]
  },
  {
   "cell_type": "code",
   "execution_count": 7,
   "id": "96bc6afc",
   "metadata": {},
   "outputs": [],
   "source": [
    "#Next, the value of dependent variable y can be calculated as follows:\n",
    "y = np.dot(X, np.array([1,2])) + 3"
   ]
  },
  {
   "cell_type": "code",
   "execution_count": 12,
   "id": "6bc4a203",
   "metadata": {},
   "outputs": [],
   "source": [
    "#create a linear regression object as follows:\n",
    "regr = LinearRegression(fit_intercept=True, copy_X=True, n_jobs=2).fit(X,y)"
   ]
  },
  {
   "cell_type": "code",
   "execution_count": 13,
   "id": "4769e6da",
   "metadata": {},
   "outputs": [
    {
     "data": {
      "text/plain": [
       "array([16.])"
      ]
     },
     "execution_count": 13,
     "metadata": {},
     "output_type": "execute_result"
    }
   ],
   "source": [
    "#Use predict() method to predict using this linear model as follows:\n",
    "regr.predict(np.array([[3,5]]))"
   ]
  },
  {
   "cell_type": "code",
   "execution_count": null,
   "id": "9252a8d5",
   "metadata": {},
   "outputs": [],
   "source": []
  }
 ],
 "metadata": {
  "kernelspec": {
   "display_name": "Python 3 (ipykernel)",
   "language": "python",
   "name": "python3"
  },
  "language_info": {
   "codemirror_mode": {
    "name": "ipython",
    "version": 3
   },
   "file_extension": ".py",
   "mimetype": "text/x-python",
   "name": "python",
   "nbconvert_exporter": "python",
   "pygments_lexer": "ipython3",
   "version": "3.9.13"
  }
 },
 "nbformat": 4,
 "nbformat_minor": 5
}
