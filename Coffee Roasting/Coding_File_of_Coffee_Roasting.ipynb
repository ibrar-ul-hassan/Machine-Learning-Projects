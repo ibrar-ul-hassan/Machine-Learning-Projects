{
 "cells": [
  {
   "cell_type": "code",
   "execution_count": 109,
   "id": "e75b8013",
   "metadata": {},
   "outputs": [],
   "source": [
    "# If you are using conda then install the follwing packages in your current environment first\n",
    "# conda install -n ENVNAME PKGNAME PKGNAME PKGNAME ...\n",
    "# conda install -n Coffee_Roasting pandas tensorflow python=3.9 matplotlib openpyxl\n",
    "\n",
    "import numpy as np\n",
    "import pandas as pd\n",
    "import matplotlib.pyplot as plt\n",
    "import tensorflow as tf\n",
    "from tensorflow.keras.models import Sequential\n",
    "from tensorflow.keras.layers import Dense"
   ]
  },
  {
   "cell_type": "code",
   "execution_count": 120,
   "id": "a90c0b32",
   "metadata": {},
   "outputs": [],
   "source": [
    "# If you want to see the complete dataset\n",
    "#df = pd.read_excel('Dataset.xlsx')\n",
    "#pd.set_option('display.max_columns', None)\n",
    "#pd.set_option('display.max_rows', None)\n",
    "#print(df)"
   ]
  },
  {
   "cell_type": "code",
   "execution_count": 135,
   "id": "6fde69ce",
   "metadata": {},
   "outputs": [],
   "source": [
    "# If you want to see the first five rows of the dataset\n",
    "#df = pd.read_excel('Dataset.xlsx')\n",
    "#df.head()"
   ]
  },
  {
   "cell_type": "code",
   "execution_count": 136,
   "id": "e939af9d",
   "metadata": {},
   "outputs": [],
   "source": [
    "#df.info()"
   ]
  },
  {
   "cell_type": "code",
   "execution_count": 137,
   "id": "f2148c89",
   "metadata": {},
   "outputs": [],
   "source": [
    "#X = df['Temperature (Celsiuis)'].values\n",
    "#Y = df['Duration (Minutes)'].values\n",
    "#print(X.shape, Y.shape)"
   ]
  },
  {
   "cell_type": "code",
   "execution_count": 139,
   "id": "43d6dc0d",
   "metadata": {},
   "outputs": [],
   "source": [
    "# first need to split the data into inputs and outputs. \n",
    "# In this case, the first column represents the temperature of coffee roasting and the \n",
    "# second column represents the Duration in minutes. \n",
    "# So, we can split the dataset into X (input) and y (output) as follows:\n",
    "\n",
    "values = np.array([\n",
    "    [185.32, 12.69],\n",
    "    [259.92, 11.87],\n",
    "    [231.01, 14.41],\n",
    "    [175.37, 11.72],\n",
    "    [187.12, 14.13],\n",
    "    [225.91, 12.1],\n",
    "    [208.41, 14.18],\n",
    "    [207.08, 14.03],\n",
    "    [280.6, 14.23],\n",
    "    [202.87, 12.25],\n",
    "    [196.7, 13.54],\n",
    "    [270.31, 14.6],\n",
    "    [192.95, 15.2],\n",
    "    [213.57, 14.28],\n",
    "    [164.47, 11.92],\n",
    "    [177.26, 15.04],\n",
    "    [241.77, 14.9],\n",
    "    [237.01, 13.13],\n",
    "    [219.74, 13.87],\n",
    "    [266.39, 13.25],\n",
    "    [270.45, 13.95],\n",
    "    [261.96, 13.49],\n",
    "    [243.49, 12.86],\n",
    "    [220.58, 12.36],\n",
    "    [163.59, 11.65],\n",
    "    [244.76, 13.33],\n",
    "    [271.19, 14.84],\n",
    "    [201.99, 15.39],\n",
    "    [229.93, 14.56],\n",
    "    [204.97, 12.28],\n",
    "    [173.19, 12.22],\n",
    "    [231.51, 11.95],\n",
    "    [152.69, 14.83],\n",
    "    [163.42, 13.3],\n",
    "    [215.95, 13.98],\n",
    "    [218.04, 15.25],\n",
    "    [251.3, 13.8],\n",
    "    [233.33, 13.53],\n",
    "    [280.24, 12.41],\n",
    "    [243.02, 13.72],\n",
    "    [155.67, 12.68],\n",
    "    [275.17, 14.64],\n",
    "    [151.73, 12.69],\n",
    "    [151.32, 14.81],\n",
    "    [164.9, 11.73],\n",
    "    [282.55, 13.28],\n",
    "    [192.98, 11.7],\n",
    "    [202.6, 12.96],\n",
    "    [220.67, 11.53],\n",
    "    [169.97, 12.34],\n",
    "    [209.47, 12.71],\n",
    "    [232.8, 12.64],\n",
    "    [272.8, 15.35],\n",
    "    [158.02, 12.34],\n",
    "    [153.06, 14.58],\n",
    "    [158.64, 12.24],\n",
    "    [211.66, 14.17],\n",
    "    [271.95, 14.97],\n",
    "    [257.16, 11.71],\n",
    "    [281.85, 13.96],\n",
    "    [161.63, 12.52],\n",
    "    [233.8, 13.04],\n",
    "    [210.29, 14.72],\n",
    "    [261.24, 13.69],\n",
    "    [256.98, 13.12],\n",
    "    [281.56, 13.92],\n",
    "    [280.64, 11.68],\n",
    "    [269.16, 13.74],\n",
    "    [246.34, 12.27],\n",
    "    [224.07, 12.66],\n",
    "    [164.24, 11.51],\n",
    "    [272.42, 14.18],\n",
    "    [177.68, 12.53],\n",
    "    [212.86, 14.77],\n",
    "    [165.88, 15.37],\n",
    "    [277.43, 12.48],\n",
    "    [236.51, 12.94],\n",
    "    [244.14, 11.85],\n",
    "    [213.45, 13.85],\n",
    "    [234.57, 14.27],\n",
    "    [270.34, 12.47],\n",
    "    [170.68, 13.06],\n",
    "    [226.79, 15.34],\n",
    "    [245.92, 14.45],\n",
    "    [281.32, 12.57],\n",
    "    [185.03, 13.19],\n",
    "    [189.88, 14.1],\n",
    "    [278.48, 12.11],\n",
    "    [213.92, 14.21],\n",
    "    [216.58, 15.15],\n",
    "    [249.48, 15.03],\n",
    "    [165.09, 12.28],\n",
    "    [158.87, 13.82],\n",
    "    [279.98, 11.56],\n",
    "    [256.55, 14.41],\n",
    "    [272.61, 12.58],\n",
    "    [246.49, 12.45],\n",
    "    [160.26, 14.48],\n",
    "    [155.7, 14.3],\n",
    "    [188.27, 13.45],\n",
    "    [270.36, 12.47],\n",
    "    [213.22, 12.92],\n",
    "    [175.7, 13.39],\n",
    "    [174.52, 14.7],\n",
    "    [233, 12.63],\n",
    "    [281.37, 12.88],\n",
    "    [240.62, 14.43],\n",
    "    [185.81, 11.55],\n",
    "    [270.5, 15.33],\n",
    "    [172.98, 12.11],\n",
    "    [208.41, 13.89],\n",
    "    [283.51, 15.35],\n",
    "    [283.36, 12.48],\n",
    "    [230.85, 13.24],\n",
    "    [181.24, 11.76],\n",
    "    [172.78, 12.93],\n",
    "    [161.88, 12.1],\n",
    "    [156.03, 13.99],\n",
    "    [216.52, 12.47],\n",
    "    [221.06, 13.2],\n",
    "    [238.99, 15.23],\n",
    "    [197.69, 14.08],\n",
    "    [179.55, 15.26],\n",
    "    [233.39, 12.13],\n",
    "    [184.7, 12.14],\n",
    "    [174.18, 12.73],\n",
    "    [261.11, 13.33],\n",
    "    [187.42, 13.18],\n",
    "    [186.1, 14.43],\n",
    "    [157.94, 12.66],\n",
    "    [193.64, 12.23],\n",
    "    [249.65, 12.22],\n",
    "    [190.56, 11.73],\n",
    "    [252, 12.96],\n",
    "    [238.55, 12.37],\n",
    "    [152.94, 12.79],\n",
    "    [255.17, 14.85],\n",
    "    [197.09, 14.89],\n",
    "    [156.8, 13.59],\n",
    "    [184.75, 13.26],\n",
    "    [179.92, 15.07],\n",
    "    [190.79, 15.28],\n",
    "    [164.73, 13.22],\n",
    "    [209.87, 14.34],\n",
    "    [196.58, 13.47],\n",
    "    [159.51, 12.74],\n",
    "    [247.87, 11.92],\n",
    "    [212.44, 12.45],\n",
    "    [172.34, 11.99],\n",
    "    [259.87, 14.25],\n",
    "    [201.23, 13.07],\n",
    "    [248.34, 13.92],\n",
    "    [273.66, 15.18],\n",
    "    [215.09, 14.14],\n",
    "    [223.53, 12.74],\n",
    "    [211.22, 14.38],\n",
    "    [224.61, 14.03],\n",
    "    [215.75, 15.31],\n",
    "    [254.82, 12.02],\n",
    "    [259.9, 15.17],\n",
    "    [260.25, 12.87],\n",
    "    [199.67, 12.47],\n",
    "    [157.52, 13.39],\n",
    "    [264.81, 14.58],\n",
    "    [239.4, 14.89],\n",
    "    [238.98, 12.39],\n",
    "    [258.43, 12.97],\n",
    "    [270.16, 12.81],\n",
    "    [162.41, 14.42],\n",
    "    [164.53, 14.98],\n",
    "    [205.61, 14.62],\n",
    "    [157.1, 13.68],\n",
    "    [241.38, 12.02],\n",
    "    [232.13, 12.07],\n",
    "    [191.04, 12.96],\n",
    "    [233.64, 12.02],\n",
    "    [174.95, 14.63],\n",
    "    [246.64, 13.32],\n",
    "    [188.07, 14.27],\n",
    "    [213.16, 12.75],\n",
    "    [268.08, 12.31],\n",
    "    [258.58, 13.97],\n",
    "    [237.21, 14.23],\n",
    "    [251.02, 15.02],\n",
    "    [274.28, 12.52],\n",
    "    [172.12, 15.09],\n",
    "    [177.52, 12.39],\n",
    "    [258.71, 15.36],\n",
    "    [264.01, 13.57],\n",
    "    [200.71, 15.45],\n",
    "    [249.37, 14.02],\n",
    "    [151.5, 12.28],\n",
    "    [151.82, 15.13],\n",
    "    [181.92, 12.18],\n",
    "    [228.65, 12.31],\n",
    "    [223.78, 15.3],\n",
    "    [266.63, 12.48],\n",
    "    [273.68, 13.1],\n",
    "    [220.61, 12.8],\n",
    "    [284.99, 12.73]])\n",
    "\n",
    "X = values[:, 0].reshape(-1, 1)\n",
    "Y = values[:, 1].reshape(-1, 1)"
   ]
  },
  {
   "cell_type": "markdown",
   "id": "7b2eba80",
   "metadata": {},
   "source": [
    "### Normalization"
   ]
  },
  {
   "cell_type": "code",
   "execution_count": 129,
   "id": "7ebcad20",
   "metadata": {},
   "outputs": [
    {
     "name": "stdout",
     "output_type": "stream",
     "text": [
      "Temperature Max, Min pre normalization: 284.99, 151.32\n",
      "Duration Max, Min pre normalization: 284.99, 151.32\n",
      "Temperature Max, Min Post normalization: 1.66, -1.66\n",
      "Duration Max, Min Post normalization: 1.66, -1.66\n"
     ]
    }
   ],
   "source": [
    "# Before normalization\n",
    "print(f\"Temperature Max, Min pre normalization: {np.max(X[:,0]):0.2f}, {np.min(X[:,0]):0.2f}\")\n",
    "print(f\"Duration Max, Min pre normalization: {np.max(X[:,0]):0.2f}, {np.min(X[:,0]):0.2f}\")\n",
    "\n",
    "norm_l = tf.keras.layers.Normalization(axis = -1) # apply normalization\n",
    "norm_l.adapt(X) # Learns means and variance\n",
    "Xn = norm_l(X)\n",
    "\n",
    "# After normalization\n",
    "print(f\"Temperature Max, Min Post normalization: {np.max(Xn[:,0]):0.2f}, {np.min(Xn[:,0]):0.2f}\")\n",
    "print(f\"Duration Max, Min Post normalization: {np.max(Xn[:,0]):0.2f}, {np.min(Xn[:,0]):0.2f}\")"
   ]
  },
  {
   "cell_type": "code",
   "execution_count": 79,
   "id": "5c6ec0b5",
   "metadata": {},
   "outputs": [
    {
     "name": "stdout",
     "output_type": "stream",
     "text": [
      "(200000, 1) (200000, 1)\n"
     ]
    }
   ],
   "source": [
    "# Tile/copy our data to increase the training set size and reduce the number of training epochs.\n",
    "Xt =np.tile(Xn,(1000,1))\n",
    "Yt =np.tile(Y, (1000, 1))\n",
    "print(Xt.shape, Yt.shape)"
   ]
  },
  {
   "cell_type": "markdown",
   "id": "f7659347",
   "metadata": {},
   "source": [
    "### Tensorflow Model"
   ]
  },
  {
   "cell_type": "code",
   "execution_count": 143,
   "id": "6350e347",
   "metadata": {},
   "outputs": [],
   "source": [
    "tf.random.set_seed(1234)  # applied to achieve consistent results\n",
    "\n",
    "model = Sequential([\n",
    "    tf.keras.Input(shape=(2,)),\n",
    "    Dense(3, activation='relu', name='layer1'),\n",
    "    Dense(1, activation='sigmoid', name='layer2')\n",
    "])\n"
   ]
  },
  {
   "cell_type": "code",
   "execution_count": 144,
   "id": "bb66431c",
   "metadata": {
    "scrolled": true
   },
   "outputs": [
    {
     "name": "stdout",
     "output_type": "stream",
     "text": [
      "Model: \"sequential_16\"\n",
      "_________________________________________________________________\n",
      " Layer (type)                Output Shape              Param #   \n",
      "=================================================================\n",
      " layer1 (Dense)              (None, 3)                 9         \n",
      "                                                                 \n",
      " layer2 (Dense)              (None, 1)                 4         \n",
      "                                                                 \n",
      "=================================================================\n",
      "Total params: 13\n",
      "Trainable params: 13\n",
      "Non-trainable params: 0\n",
      "_________________________________________________________________\n"
     ]
    }
   ],
   "source": [
    "model.summary()"
   ]
  },
  {
   "cell_type": "markdown",
   "id": "653e5730",
   "metadata": {},
   "source": [
    "How to calculate the parameters?\n",
    "\n",
    "These are weights and biases. The weights 𝑊 should be of size (number of features in input, number of units in the layer) while the bias  𝑏 size should match the number of units in the layer:\n",
    "\n",
    "Layer = # W + b\n",
    "Layer = (Number of input features * number of units in the layer) +  number of units in the layer\n",
    "\n",
    "Layer1 = 1 * 3 + 3 = 6\n",
    "Layer2 = 3 * 1 + 1 = 4\n",
    "Total = 6 + 4 = 10 "
   ]
  },
  {
   "cell_type": "code",
   "execution_count": 145,
   "id": "96939d44",
   "metadata": {},
   "outputs": [],
   "source": [
    "model.compile(\n",
    "    loss = tf.keras.losses.BinaryCrossentropy(),\n",
    "    optimizer = tf.keras.optimizers.Adam(learning_rate=0.01),\n",
    ")"
   ]
  },
  {
   "cell_type": "code",
   "execution_count": 148,
   "id": "e070fbb4",
   "metadata": {},
   "outputs": [
    {
     "name": "stdout",
     "output_type": "stream",
     "text": [
      "Epoch 1/1000\n",
      "WARNING:tensorflow:Model was constructed with shape (None, 2) for input KerasTensor(type_spec=TensorSpec(shape=(None, 2), dtype=tf.float32, name='input_14'), name='input_14', description=\"created by layer 'input_14'\"), but it was called on an input with incompatible shape (10, 1).\n"
     ]
    },
    {
     "ename": "ValueError",
     "evalue": "in user code:\n\n    File \"C:\\Users\\dell\\anaconda3\\envs\\Coffee_Roasting\\lib\\site-packages\\keras\\engine\\training.py\", line 1160, in train_function  *\n        return step_function(self, iterator)\n    File \"C:\\Users\\dell\\anaconda3\\envs\\Coffee_Roasting\\lib\\site-packages\\keras\\engine\\training.py\", line 1146, in step_function  **\n        outputs = model.distribute_strategy.run(run_step, args=(data,))\n    File \"C:\\Users\\dell\\anaconda3\\envs\\Coffee_Roasting\\lib\\site-packages\\keras\\engine\\training.py\", line 1135, in run_step  **\n        outputs = model.train_step(data)\n    File \"C:\\Users\\dell\\anaconda3\\envs\\Coffee_Roasting\\lib\\site-packages\\keras\\engine\\training.py\", line 993, in train_step\n        y_pred = self(x, training=True)\n    File \"C:\\Users\\dell\\anaconda3\\envs\\Coffee_Roasting\\lib\\site-packages\\keras\\utils\\traceback_utils.py\", line 70, in error_handler\n        raise e.with_traceback(filtered_tb) from None\n    File \"C:\\Users\\dell\\anaconda3\\envs\\Coffee_Roasting\\lib\\site-packages\\keras\\engine\\input_spec.py\", line 277, in assert_input_compatibility\n        raise ValueError(\n\n    ValueError: Exception encountered when calling layer \"sequential_16\" \"                 f\"(type Sequential).\n    \n    Input 0 of layer \"layer1\" is incompatible with the layer: expected axis -1 of input shape to have value 2, but received input with shape (10, 1)\n    \n    Call arguments received by layer \"sequential_16\" \"                 f\"(type Sequential):\n      • inputs=tf.Tensor(shape=(10, 1), dtype=float32)\n      • training=True\n      • mask=None\n",
     "output_type": "error",
     "traceback": [
      "\u001b[1;31m---------------------------------------------------------------------------\u001b[0m",
      "\u001b[1;31mValueError\u001b[0m                                Traceback (most recent call last)",
      "Cell \u001b[1;32mIn[148], line 1\u001b[0m\n\u001b[1;32m----> 1\u001b[0m \u001b[43mmodel\u001b[49m\u001b[38;5;241;43m.\u001b[39;49m\u001b[43mfit\u001b[49m\u001b[43m(\u001b[49m\u001b[43mX\u001b[49m\u001b[43m,\u001b[49m\u001b[43m \u001b[49m\u001b[43mY\u001b[49m\u001b[43m,\u001b[49m\u001b[43m \u001b[49m\u001b[43mepochs\u001b[49m\u001b[38;5;241;43m=\u001b[39;49m\u001b[38;5;241;43m1000\u001b[39;49m\u001b[43m,\u001b[49m\u001b[43m \u001b[49m\u001b[43mbatch_size\u001b[49m\u001b[38;5;241;43m=\u001b[39;49m\u001b[38;5;241;43m10\u001b[39;49m\u001b[43m)\u001b[49m\n",
      "File \u001b[1;32m~\\anaconda3\\envs\\Coffee_Roasting\\lib\\site-packages\\keras\\utils\\traceback_utils.py:70\u001b[0m, in \u001b[0;36mfilter_traceback.<locals>.error_handler\u001b[1;34m(*args, **kwargs)\u001b[0m\n\u001b[0;32m     67\u001b[0m     filtered_tb \u001b[38;5;241m=\u001b[39m _process_traceback_frames(e\u001b[38;5;241m.\u001b[39m__traceback__)\n\u001b[0;32m     68\u001b[0m     \u001b[38;5;66;03m# To get the full stack trace, call:\u001b[39;00m\n\u001b[0;32m     69\u001b[0m     \u001b[38;5;66;03m# `tf.debugging.disable_traceback_filtering()`\u001b[39;00m\n\u001b[1;32m---> 70\u001b[0m     \u001b[38;5;28;01mraise\u001b[39;00m e\u001b[38;5;241m.\u001b[39mwith_traceback(filtered_tb) \u001b[38;5;28;01mfrom\u001b[39;00m \u001b[38;5;28mNone\u001b[39m\n\u001b[0;32m     71\u001b[0m \u001b[38;5;28;01mfinally\u001b[39;00m:\n\u001b[0;32m     72\u001b[0m     \u001b[38;5;28;01mdel\u001b[39;00m filtered_tb\n",
      "File \u001b[1;32m~\\AppData\\Local\\Temp\\__autograph_generated_file3xk3ynth.py:15\u001b[0m, in \u001b[0;36mouter_factory.<locals>.inner_factory.<locals>.tf__train_function\u001b[1;34m(iterator)\u001b[0m\n\u001b[0;32m     13\u001b[0m \u001b[38;5;28;01mtry\u001b[39;00m:\n\u001b[0;32m     14\u001b[0m     do_return \u001b[38;5;241m=\u001b[39m \u001b[38;5;28;01mTrue\u001b[39;00m\n\u001b[1;32m---> 15\u001b[0m     retval_ \u001b[38;5;241m=\u001b[39m ag__\u001b[38;5;241m.\u001b[39mconverted_call(ag__\u001b[38;5;241m.\u001b[39mld(step_function), (ag__\u001b[38;5;241m.\u001b[39mld(\u001b[38;5;28mself\u001b[39m), ag__\u001b[38;5;241m.\u001b[39mld(iterator)), \u001b[38;5;28;01mNone\u001b[39;00m, fscope)\n\u001b[0;32m     16\u001b[0m \u001b[38;5;28;01mexcept\u001b[39;00m:\n\u001b[0;32m     17\u001b[0m     do_return \u001b[38;5;241m=\u001b[39m \u001b[38;5;28;01mFalse\u001b[39;00m\n",
      "\u001b[1;31mValueError\u001b[0m: in user code:\n\n    File \"C:\\Users\\dell\\anaconda3\\envs\\Coffee_Roasting\\lib\\site-packages\\keras\\engine\\training.py\", line 1160, in train_function  *\n        return step_function(self, iterator)\n    File \"C:\\Users\\dell\\anaconda3\\envs\\Coffee_Roasting\\lib\\site-packages\\keras\\engine\\training.py\", line 1146, in step_function  **\n        outputs = model.distribute_strategy.run(run_step, args=(data,))\n    File \"C:\\Users\\dell\\anaconda3\\envs\\Coffee_Roasting\\lib\\site-packages\\keras\\engine\\training.py\", line 1135, in run_step  **\n        outputs = model.train_step(data)\n    File \"C:\\Users\\dell\\anaconda3\\envs\\Coffee_Roasting\\lib\\site-packages\\keras\\engine\\training.py\", line 993, in train_step\n        y_pred = self(x, training=True)\n    File \"C:\\Users\\dell\\anaconda3\\envs\\Coffee_Roasting\\lib\\site-packages\\keras\\utils\\traceback_utils.py\", line 70, in error_handler\n        raise e.with_traceback(filtered_tb) from None\n    File \"C:\\Users\\dell\\anaconda3\\envs\\Coffee_Roasting\\lib\\site-packages\\keras\\engine\\input_spec.py\", line 277, in assert_input_compatibility\n        raise ValueError(\n\n    ValueError: Exception encountered when calling layer \"sequential_16\" \"                 f\"(type Sequential).\n    \n    Input 0 of layer \"layer1\" is incompatible with the layer: expected axis -1 of input shape to have value 2, but received input with shape (10, 1)\n    \n    Call arguments received by layer \"sequential_16\" \"                 f\"(type Sequential):\n      • inputs=tf.Tensor(shape=(10, 1), dtype=float32)\n      • training=True\n      • mask=None\n"
     ]
    }
   ],
   "source": [
    "model.fit(X, Y, epochs=1000, batch_size=10)"
   ]
  },
  {
   "cell_type": "markdown",
   "id": "6793a137",
   "metadata": {},
   "source": [
    "### Predictions"
   ]
  },
  {
   "cell_type": "markdown",
   "id": "e60ada1b",
   "metadata": {},
   "source": [
    "Recall, we have normalized the input features so we must normalize our test data as well."
   ]
  },
  {
   "cell_type": "code",
   "execution_count": 94,
   "id": "02308d29",
   "metadata": {},
   "outputs": [
    {
     "name": "stdout",
     "output_type": "stream",
     "text": [
      "WARNING:tensorflow:Model was constructed with shape (None, 1) for input KerasTensor(type_spec=TensorSpec(shape=(None, 1), dtype=tf.float32, name='input_12'), name='input_12', description=\"created by layer 'input_12'\"), but it was called on an input with incompatible shape (None, 2).\n"
     ]
    },
    {
     "ename": "ValueError",
     "evalue": "in user code:\n\n    File \"C:\\Users\\dell\\anaconda3\\envs\\Coffee_Roasting\\lib\\site-packages\\keras\\engine\\training.py\", line 2041, in predict_function  *\n        return step_function(self, iterator)\n    File \"C:\\Users\\dell\\anaconda3\\envs\\Coffee_Roasting\\lib\\site-packages\\keras\\engine\\training.py\", line 2027, in step_function  **\n        outputs = model.distribute_strategy.run(run_step, args=(data,))\n    File \"C:\\Users\\dell\\anaconda3\\envs\\Coffee_Roasting\\lib\\site-packages\\keras\\engine\\training.py\", line 2015, in run_step  **\n        outputs = model.predict_step(data)\n    File \"C:\\Users\\dell\\anaconda3\\envs\\Coffee_Roasting\\lib\\site-packages\\keras\\engine\\training.py\", line 1983, in predict_step\n        return self(x, training=False)\n    File \"C:\\Users\\dell\\anaconda3\\envs\\Coffee_Roasting\\lib\\site-packages\\keras\\utils\\traceback_utils.py\", line 70, in error_handler\n        raise e.with_traceback(filtered_tb) from None\n    File \"C:\\Users\\dell\\anaconda3\\envs\\Coffee_Roasting\\lib\\site-packages\\keras\\engine\\input_spec.py\", line 277, in assert_input_compatibility\n        raise ValueError(\n\n    ValueError: Exception encountered when calling layer \"sequential_14\" \"                 f\"(type Sequential).\n    \n    Input 0 of layer \"layer1\" is incompatible with the layer: expected axis -1 of input shape to have value 1, but received input with shape (None, 2)\n    \n    Call arguments received by layer \"sequential_14\" \"                 f\"(type Sequential):\n      • inputs=tf.Tensor(shape=(None, 2), dtype=float32)\n      • training=False\n      • mask=None\n",
     "output_type": "error",
     "traceback": [
      "\u001b[1;31m---------------------------------------------------------------------------\u001b[0m",
      "\u001b[1;31mValueError\u001b[0m                                Traceback (most recent call last)",
      "Cell \u001b[1;32mIn[94], line 5\u001b[0m\n\u001b[0;32m      1\u001b[0m X_test \u001b[38;5;241m=\u001b[39m np\u001b[38;5;241m.\u001b[39marray([\n\u001b[0;32m      2\u001b[0m     [\u001b[38;5;241m200\u001b[39m,\u001b[38;5;241m13.9\u001b[39m],\n\u001b[0;32m      3\u001b[0m     [\u001b[38;5;241m200\u001b[39m,\u001b[38;5;241m17\u001b[39m]])\n\u001b[0;32m      4\u001b[0m X_testn \u001b[38;5;241m=\u001b[39mnorm_l(X_test)\n\u001b[1;32m----> 5\u001b[0m predictions \u001b[38;5;241m=\u001b[39m \u001b[43mmodel\u001b[49m\u001b[38;5;241;43m.\u001b[39;49m\u001b[43mpredict\u001b[49m\u001b[43m(\u001b[49m\u001b[43mX_testn\u001b[49m\u001b[43m)\u001b[49m\n\u001b[0;32m      6\u001b[0m \u001b[38;5;28mprint\u001b[39m(\u001b[38;5;124m\"\u001b[39m\u001b[38;5;124mpredictions = \u001b[39m\u001b[38;5;130;01m\\n\u001b[39;00m\u001b[38;5;124m\"\u001b[39m, predictions)\n",
      "File \u001b[1;32m~\\anaconda3\\envs\\Coffee_Roasting\\lib\\site-packages\\keras\\utils\\traceback_utils.py:70\u001b[0m, in \u001b[0;36mfilter_traceback.<locals>.error_handler\u001b[1;34m(*args, **kwargs)\u001b[0m\n\u001b[0;32m     67\u001b[0m     filtered_tb \u001b[38;5;241m=\u001b[39m _process_traceback_frames(e\u001b[38;5;241m.\u001b[39m__traceback__)\n\u001b[0;32m     68\u001b[0m     \u001b[38;5;66;03m# To get the full stack trace, call:\u001b[39;00m\n\u001b[0;32m     69\u001b[0m     \u001b[38;5;66;03m# `tf.debugging.disable_traceback_filtering()`\u001b[39;00m\n\u001b[1;32m---> 70\u001b[0m     \u001b[38;5;28;01mraise\u001b[39;00m e\u001b[38;5;241m.\u001b[39mwith_traceback(filtered_tb) \u001b[38;5;28;01mfrom\u001b[39;00m \u001b[38;5;28mNone\u001b[39m\n\u001b[0;32m     71\u001b[0m \u001b[38;5;28;01mfinally\u001b[39;00m:\n\u001b[0;32m     72\u001b[0m     \u001b[38;5;28;01mdel\u001b[39;00m filtered_tb\n",
      "File \u001b[1;32m~\\AppData\\Local\\Temp\\__autograph_generated_fileyf833n21.py:15\u001b[0m, in \u001b[0;36mouter_factory.<locals>.inner_factory.<locals>.tf__predict_function\u001b[1;34m(iterator)\u001b[0m\n\u001b[0;32m     13\u001b[0m \u001b[38;5;28;01mtry\u001b[39;00m:\n\u001b[0;32m     14\u001b[0m     do_return \u001b[38;5;241m=\u001b[39m \u001b[38;5;28;01mTrue\u001b[39;00m\n\u001b[1;32m---> 15\u001b[0m     retval_ \u001b[38;5;241m=\u001b[39m ag__\u001b[38;5;241m.\u001b[39mconverted_call(ag__\u001b[38;5;241m.\u001b[39mld(step_function), (ag__\u001b[38;5;241m.\u001b[39mld(\u001b[38;5;28mself\u001b[39m), ag__\u001b[38;5;241m.\u001b[39mld(iterator)), \u001b[38;5;28;01mNone\u001b[39;00m, fscope)\n\u001b[0;32m     16\u001b[0m \u001b[38;5;28;01mexcept\u001b[39;00m:\n\u001b[0;32m     17\u001b[0m     do_return \u001b[38;5;241m=\u001b[39m \u001b[38;5;28;01mFalse\u001b[39;00m\n",
      "\u001b[1;31mValueError\u001b[0m: in user code:\n\n    File \"C:\\Users\\dell\\anaconda3\\envs\\Coffee_Roasting\\lib\\site-packages\\keras\\engine\\training.py\", line 2041, in predict_function  *\n        return step_function(self, iterator)\n    File \"C:\\Users\\dell\\anaconda3\\envs\\Coffee_Roasting\\lib\\site-packages\\keras\\engine\\training.py\", line 2027, in step_function  **\n        outputs = model.distribute_strategy.run(run_step, args=(data,))\n    File \"C:\\Users\\dell\\anaconda3\\envs\\Coffee_Roasting\\lib\\site-packages\\keras\\engine\\training.py\", line 2015, in run_step  **\n        outputs = model.predict_step(data)\n    File \"C:\\Users\\dell\\anaconda3\\envs\\Coffee_Roasting\\lib\\site-packages\\keras\\engine\\training.py\", line 1983, in predict_step\n        return self(x, training=False)\n    File \"C:\\Users\\dell\\anaconda3\\envs\\Coffee_Roasting\\lib\\site-packages\\keras\\utils\\traceback_utils.py\", line 70, in error_handler\n        raise e.with_traceback(filtered_tb) from None\n    File \"C:\\Users\\dell\\anaconda3\\envs\\Coffee_Roasting\\lib\\site-packages\\keras\\engine\\input_spec.py\", line 277, in assert_input_compatibility\n        raise ValueError(\n\n    ValueError: Exception encountered when calling layer \"sequential_14\" \"                 f\"(type Sequential).\n    \n    Input 0 of layer \"layer1\" is incompatible with the layer: expected axis -1 of input shape to have value 1, but received input with shape (None, 2)\n    \n    Call arguments received by layer \"sequential_14\" \"                 f\"(type Sequential):\n      • inputs=tf.Tensor(shape=(None, 2), dtype=float32)\n      • training=False\n      • mask=None\n"
     ]
    }
   ],
   "source": [
    "X_test = np.array([\n",
    "    [200,13.9],\n",
    "    [200,17]])\n",
    "X_testn =norm_l(X_test)\n",
    "predictions = model.predict(X_testn)\n",
    "print(\"predictions = \\n\", predictions)"
   ]
  },
  {
   "cell_type": "code",
   "execution_count": null,
   "id": "87cc2e3e",
   "metadata": {},
   "outputs": [],
   "source": []
  }
 ],
 "metadata": {
  "kernelspec": {
   "display_name": "Python 3 (ipykernel)",
   "language": "python",
   "name": "python3"
  },
  "language_info": {
   "codemirror_mode": {
    "name": "ipython",
    "version": 3
   },
   "file_extension": ".py",
   "mimetype": "text/x-python",
   "name": "python",
   "nbconvert_exporter": "python",
   "pygments_lexer": "ipython3",
   "version": "3.9.16"
  }
 },
 "nbformat": 4,
 "nbformat_minor": 5
}
