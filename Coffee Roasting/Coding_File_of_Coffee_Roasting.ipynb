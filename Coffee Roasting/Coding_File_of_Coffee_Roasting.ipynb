{
 "cells": [
  {
   "cell_type": "markdown",
   "id": "a3b96839",
   "metadata": {},
   "source": [
    "# Introduction"
   ]
  },
  {
   "cell_type": "markdown",
   "id": "78c1a72e",
   "metadata": {},
   "source": [
    "This project aims to predict the optimal roasting conditions for coffee by utilizing a neural network model. The inputs for this model consist of two variables: temperature in celsius and time duration in minutes. The output will be binary, represented by 1 or 0, indicating whether the coffee is optimally roasted or not. Our focus is to determine the most suitable conditions for achieving the best roasting results."
   ]
  },
  {
   "cell_type": "markdown",
   "id": "d0b3b222",
   "metadata": {},
   "source": [
    "# Importing Libraries"
   ]
  },
  {
   "cell_type": "code",
   "execution_count": 105,
   "id": "e75b8013",
   "metadata": {},
   "outputs": [],
   "source": [
    "# If you are using conda then install the follwing packages in your current environment first\n",
    "# conda install -n ENVNAME PKGNAME PKGNAME PKGNAME ...\n",
    "# conda install -n Coffee_Roasting pandas tensorflow python=3.9 matplotlib openpyxl\n",
    "\n",
    "import numpy as np\n",
    "import pandas as pd\n",
    "import matplotlib.pyplot as plt\n",
    "import tensorflow as tf\n",
    "from tensorflow.keras.models import Sequential\n",
    "from tensorflow.keras.layers import Dense"
   ]
  },
  {
   "cell_type": "markdown",
   "id": "44ede5d6",
   "metadata": {},
   "source": [
    "# Dataset Processing"
   ]
  },
  {
   "cell_type": "code",
   "execution_count": 107,
   "id": "a90c0b32",
   "metadata": {},
   "outputs": [
    {
     "data": {
      "text/html": [
       "<div>\n",
       "<style scoped>\n",
       "    .dataframe tbody tr th:only-of-type {\n",
       "        vertical-align: middle;\n",
       "    }\n",
       "\n",
       "    .dataframe tbody tr th {\n",
       "        vertical-align: top;\n",
       "    }\n",
       "\n",
       "    .dataframe thead th {\n",
       "        text-align: right;\n",
       "    }\n",
       "</style>\n",
       "<table border=\"1\" class=\"dataframe\">\n",
       "  <thead>\n",
       "    <tr style=\"text-align: right;\">\n",
       "      <th></th>\n",
       "      <th>Temperature (Celsiuis)</th>\n",
       "      <th>Duration (Minutes)</th>\n",
       "      <th>Output</th>\n",
       "    </tr>\n",
       "  </thead>\n",
       "  <tbody>\n",
       "    <tr>\n",
       "      <th>0</th>\n",
       "      <td>185.32</td>\n",
       "      <td>12.69</td>\n",
       "      <td>1</td>\n",
       "    </tr>\n",
       "    <tr>\n",
       "      <th>1</th>\n",
       "      <td>259.92</td>\n",
       "      <td>11.87</td>\n",
       "      <td>0</td>\n",
       "    </tr>\n",
       "    <tr>\n",
       "      <th>2</th>\n",
       "      <td>231.01</td>\n",
       "      <td>14.41</td>\n",
       "      <td>0</td>\n",
       "    </tr>\n",
       "    <tr>\n",
       "      <th>3</th>\n",
       "      <td>175.37</td>\n",
       "      <td>11.72</td>\n",
       "      <td>0</td>\n",
       "    </tr>\n",
       "    <tr>\n",
       "      <th>4</th>\n",
       "      <td>187.12</td>\n",
       "      <td>14.13</td>\n",
       "      <td>1</td>\n",
       "    </tr>\n",
       "  </tbody>\n",
       "</table>\n",
       "</div>"
      ],
      "text/plain": [
       "   Temperature (Celsiuis)  Duration (Minutes)  Output\n",
       "0                  185.32               12.69       1\n",
       "1                  259.92               11.87       0\n",
       "2                  231.01               14.41       0\n",
       "3                  175.37               11.72       0\n",
       "4                  187.12               14.13       1"
      ]
     },
     "execution_count": 107,
     "metadata": {},
     "output_type": "execute_result"
    }
   ],
   "source": [
    "df = pd.read_excel('Dataset.xlsx')\n",
    "df.head()"
   ]
  },
  {
   "cell_type": "code",
   "execution_count": 108,
   "id": "6fde69ce",
   "metadata": {},
   "outputs": [
    {
     "name": "stdout",
     "output_type": "stream",
     "text": [
      "(200, 2) (200, 1)\n"
     ]
    }
   ],
   "source": [
    "X = df[['Temperature (Celsiuis)', 'Duration (Minutes)']]\n",
    "Y = df['Output'].values.reshape(-1 ,1)\n",
    "print(X.shape, Y.shape)"
   ]
  },
  {
   "cell_type": "code",
   "execution_count": 109,
   "id": "e939af9d",
   "metadata": {},
   "outputs": [
    {
     "name": "stdout",
     "output_type": "stream",
     "text": [
      "<class 'pandas.core.frame.DataFrame'>\n",
      "RangeIndex: 200 entries, 0 to 199\n",
      "Data columns (total 3 columns):\n",
      " #   Column                  Non-Null Count  Dtype  \n",
      "---  ------                  --------------  -----  \n",
      " 0   Temperature (Celsiuis)  200 non-null    float64\n",
      " 1   Duration (Minutes)      200 non-null    float64\n",
      " 2   Output                  200 non-null    int64  \n",
      "dtypes: float64(2), int64(1)\n",
      "memory usage: 4.8 KB\n"
     ]
    }
   ],
   "source": [
    "df.info()"
   ]
  },
  {
   "cell_type": "markdown",
   "id": "3f95fd74",
   "metadata": {},
   "source": [
    "# Normalization"
   ]
  },
  {
   "cell_type": "code",
   "execution_count": 110,
   "id": "583fd7cc",
   "metadata": {},
   "outputs": [
    {
     "name": "stdout",
     "output_type": "stream",
     "text": [
      "Temperature Max, Min: 284.99, 151.32\n",
      "Duration Max, Min: 15.45, 11.51\n",
      "Temperature Max, Min: 1.66, -1.66\n",
      "Duration Max, Min: 1.80, -1.70\n"
     ]
    }
   ],
   "source": [
    "#Before normalization\n",
    "print(f\"Temperature Max, Min: {np.max(X['Temperature (Celsiuis)']):0.2f}, {np.min(X['Temperature (Celsiuis)']):0.2f}\")\n",
    "print(f\"Duration Max, Min: {np.max(X['Duration (Minutes)']):0.2f}, {np.min(X['Duration (Minutes)']):0.2f}\")\n",
    "\n",
    "norm_l = tf.keras.layers.Normalization(axis = -1) # apply normalization\n",
    "norm_l.adapt(X) # Learns means and variance\n",
    "Xn = norm_l(X)\n",
    "\n",
    "#After normalization\n",
    "print(f\"Temperature Max, Min: {np.max(Xn[:,0]):0.2f}, {np.min(Xn[:,0]):0.2f}\")\n",
    "print(f\"Duration Max, Min: {np.max(Xn[:,1]):0.2f}, {np.min(Xn[:,1]):0.2f}\")"
   ]
  },
  {
   "cell_type": "markdown",
   "id": "24645b32",
   "metadata": {},
   "source": [
    "# To increase the dataset"
   ]
  },
  {
   "cell_type": "code",
   "execution_count": 111,
   "id": "5c6ec0b5",
   "metadata": {},
   "outputs": [
    {
     "name": "stdout",
     "output_type": "stream",
     "text": [
      "(200000, 2) (200000, 1)\n"
     ]
    }
   ],
   "source": [
    "# Tile/copy our data to increase the training set size and reduce the number of training epochs.\n",
    "Xt =np.tile(Xn,(1000,1))\n",
    "Yt =np.tile(Y, (1000, 1))\n",
    "print(Xt.shape, Yt.shape)"
   ]
  },
  {
   "cell_type": "markdown",
   "id": "2441e346",
   "metadata": {},
   "source": [
    "# Data Visualization"
   ]
  },
  {
   "cell_type": "code",
   "execution_count": 112,
   "id": "a0e36f4e",
   "metadata": {},
   "outputs": [
    {
     "name": "stderr",
     "output_type": "stream",
     "text": [
      "C:\\Users\\dell\\anaconda3\\envs\\Coffee_Roasting\\lib\\site-packages\\numpy\\core\\fromnumeric.py:3432: RuntimeWarning: Mean of empty slice.\n",
      "  return _methods._mean(a, axis=axis, dtype=dtype,\n",
      "C:\\Users\\dell\\anaconda3\\envs\\Coffee_Roasting\\lib\\site-packages\\numpy\\core\\_methods.py:190: RuntimeWarning: invalid value encountered in double_scalars\n",
      "  ret = ret.dtype.type(ret / rcount)\n"
     ]
    },
    {
     "data": {
      "image/png": "[encoded data removed]",
      "text/plain": [
       "<Figure size 800x600 with 2 Axes>"
      ]
     },
     "metadata": {},
     "output_type": "display_data"
    }
   ],
   "source": [
    "# Define the temperature and duration ranges\n",
    "temp_range = np.arange(150, 250, 5)\n",
    "dur_range = np.arange(5, 25, 1)\n",
    "\n",
    "# Initialize output grid\n",
    "output_grid = np.zeros((len(dur_range), len(temp_range)))\n",
    "\n",
    "# Compute the output for each temperature and duration value\n",
    "for i, temp in enumerate(temp_range):\n",
    "    for j, dur in enumerate(dur_range):\n",
    "        idx = (X['Temperature (Celsiuis)'] == temp) & (X['Duration (Minutes)'] == dur)\n",
    "        output_grid[j, i] = np.mean(Y[idx])\n",
    "\n",
    "# Plot the output as a heatmap\n",
    "fig, ax = plt.subplots(figsize=(8, 6))\n",
    "im = ax.imshow(output_grid, cmap='viridis', aspect='auto', extent=[temp_range.min(), temp_range.max(), dur_range.min(), dur_range.max()])\n",
    "ax.set_title('Coffee Roasting Heatmap')\n",
    "ax.set_xlabel('Temperature (Celsius)')\n",
    "ax.set_ylabel('Duration (Minutes)')\n",
    "cbar = ax.figure.colorbar(im, ax=ax)\n",
    "cbar.ax.set_ylabel('Output', rotation=-90, va=\"bottom\")\n",
    "plt.show()\n"
   ]
  },
  {
   "cell_type": "markdown",
   "id": "f7659347",
   "metadata": {},
   "source": [
    "# Tensorflow Model"
   ]
  },
  {
   "cell_type": "code",
   "execution_count": 113,
   "id": "6350e347",
   "metadata": {},
   "outputs": [],
   "source": [
    "tf.random.set_seed(1234)  # applied to achieve consistent results\n",
    "\n",
    "model = Sequential([\n",
    "    tf.keras.Input(shape=(2,)),\n",
    "    Dense(3, activation='sigmoid', name='layer1'),\n",
    "    Dense(1, activation='sigmoid', name='layer2')\n",
    "])\n"
   ]
  },
  {
   "cell_type": "code",
   "execution_count": 114,
   "id": "bb66431c",
   "metadata": {
    "scrolled": true
   },
   "outputs": [
    {
     "name": "stdout",
     "output_type": "stream",
     "text": [
      "Model: \"sequential_1\"\n",
      "_________________________________________________________________\n",
      " Layer (type)                Output Shape              Param #   \n",
      "=================================================================\n",
      " layer1 (Dense)              (None, 3)                 9         \n",
      "                                                                 \n",
      " layer2 (Dense)              (None, 1)                 4         \n",
      "                                                                 \n",
      "=================================================================\n",
      "Total params: 13\n",
      "Trainable params: 13\n",
      "Non-trainable params: 0\n",
      "_________________________________________________________________\n"
     ]
    }
   ],
   "source": [
    "model.summary()"
   ]
  },
  {
   "cell_type": "markdown",
   "id": "653e5730",
   "metadata": {},
   "source": [
    "- **How to calculate the parameters?**\n",
    "\n",
    "1. These are weights and biases. \n",
    "2. The weights 𝑊 should be of size (number of features in input, number of units in the layer) \n",
    "3. While the bias  𝑏 size should match the number of units in the layer.\n",
    "\n",
    "4. Layer = # W + b <br>\n",
    "5. Layer = (Number of input features * number of units in the layer) +  number of units in the layer\n",
    "\n",
    "6. Layer1 = 2 * 3 + 3 = 9 <br>\n",
    "7. Layer2 = 1 * 3 + 1 = 4 <br>\n",
    "8. Total = 9 + 4 = 13 "
   ]
  },
  {
   "cell_type": "code",
   "execution_count": 115,
   "id": "96939d44",
   "metadata": {},
   "outputs": [],
   "source": [
    "model.compile(\n",
    "    loss = tf.keras.losses.BinaryCrossentropy(),\n",
    "    optimizer = tf.keras.optimizers.Adam(learning_rate=0.01),\n",
    ")"
   ]
  },
  {
   "cell_type": "code",
   "execution_count": 116,
   "id": "e070fbb4",
   "metadata": {},
   "outputs": [
    {
     "name": "stdout",
     "output_type": "stream",
     "text": [
      "Epoch 1/10\n",
      "6250/6250 [==============================] - 9s 1ms/step - loss: 0.2882\n",
      "Epoch 2/10\n",
      "6250/6250 [==============================] - 8s 1ms/step - loss: 0.1374\n",
      "Epoch 3/10\n",
      "6250/6250 [==============================] - 8s 1ms/step - loss: 0.1274\n",
      "Epoch 4/10\n",
      "6250/6250 [==============================] - 9s 1ms/step - loss: 0.1193\n",
      "Epoch 5/10\n",
      "6250/6250 [==============================] - 8s 1ms/step - loss: 0.1125\n",
      "Epoch 6/10\n",
      "6250/6250 [==============================] - 9s 1ms/step - loss: 0.1074\n",
      "Epoch 7/10\n",
      "6250/6250 [==============================] - 9s 1ms/step - loss: 0.0367\n",
      "Epoch 8/10\n",
      "6250/6250 [==============================] - 8s 1ms/step - loss: 0.0135\n",
      "Epoch 9/10\n",
      "6250/6250 [==============================] - 9s 1ms/step - loss: 0.0091\n",
      "Epoch 10/10\n",
      "6250/6250 [==============================] - 10s 2ms/step - loss: 0.0065\n"
     ]
    },
    {
     "data": {
      "text/plain": [
       "<keras.callbacks.History at 0x2306e086fd0>"
      ]
     },
     "execution_count": 116,
     "metadata": {},
     "output_type": "execute_result"
    }
   ],
   "source": [
    "model.fit(Xt, Yt, epochs=10)"
   ]
  },
  {
   "cell_type": "markdown",
   "id": "6793a137",
   "metadata": {},
   "source": [
    "# Predictions"
   ]
  },
  {
   "cell_type": "markdown",
   "id": "e60ada1b",
   "metadata": {},
   "source": [
    "Recall, we have normalized the input features so we must normalize our test data as well."
   ]
  },
  {
   "cell_type": "code",
   "execution_count": 93,
   "id": "02308d29",
   "metadata": {},
   "outputs": [
    {
     "name": "stdout",
     "output_type": "stream",
     "text": [
      "1/1 [==============================] - 0s 27ms/step\n",
      "predictions = \n",
      " [[9.8930621e-01]\n",
      " [2.1582024e-07]]\n"
     ]
    }
   ],
   "source": [
    "# prediction input\n",
    "X_test = np.array([\n",
    "    [200,13.9],\n",
    "    [200,17]])\n",
    "\n",
    "# prediction normalization\n",
    "X_testn =norm_l(X_test)\n",
    "\n",
    "# let's predict\n",
    "predictions = model.predict(X_testn)\n",
    "print(\"predictions = \\n\", predictions)"
   ]
  },
  {
   "cell_type": "markdown",
   "id": "bdbdd2aa",
   "metadata": {},
   "source": [
    "- **To convert the probabilities to a decision, we apply a threshold:**\n"
   ]
  },
  {
   "cell_type": "code",
   "execution_count": 101,
   "id": "e37da3e7",
   "metadata": {},
   "outputs": [
    {
     "name": "stdout",
     "output_type": "stream",
     "text": [
      "Final Decesion = \n",
      "[[1.]\n",
      " [0.]]\n"
     ]
    }
   ],
   "source": [
    "yhat = np.zeros_like(predictions)\n",
    "for i in range(len(predictions)):\n",
    "    if predictions[i] >= 0.5:\n",
    "        yhat[i] = 1\n",
    "    else:\n",
    "        yhat[i] = 0\n",
    "print(f\"Final Decesion = \\n{yhat}\")"
   ]
  }
 ],
 "metadata": {
  "kernelspec": {
   "display_name": "Python 3 (ipykernel)",
   "language": "python",
   "name": "python3"
  },
  "language_info": {
   "codemirror_mode": {
    "name": "ipython",
    "version": 3
   },
   "file_extension": ".py",
   "mimetype": "text/x-python",
   "name": "python",
   "nbconvert_exporter": "python",
   "pygments_lexer": "ipython3",
   "version": "3.9.16"
  }
 },
 "nbformat": 4,
 "nbformat_minor": 5
}
