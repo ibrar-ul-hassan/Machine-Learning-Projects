{
 "cells": [
  {
   "cell_type": "markdown",
   "id": "1e8efc8b",
   "metadata": {},
   "source": [
    "# Deep Learning for Content-Based Filtering\n",
    "\n",
    "In this project, we will implment content based filtering using a neural network to build a recommender system for movies.\n",
    "\n",
    "# Outline\n",
    "\n",
    "- [1 - Packages](#1)\n",
    "- [2 - Movie ratings dataset](#2)\n",
    "- [3 - Content based filtering with a neural netwrok](#3)\n",
    "    - [3.1 Training Data](#3.1)\n",
    "    - [3.2 Preparing the training data](#3.2)\n",
    "- [4 - Neural Netwrork](#4)\n",
    "- [5 - Predictions](#5)\n",
    "    - [5.1 Predictions for a new user](#5.1)\n",
    "    - [5.2 Predictions for an existing user](#5.2)\n",
    "    - [5.3 Finding a similar items](#5.3)"
   ]
  },
  {
   "cell_type": "markdown",
   "id": "966e8fdf",
   "metadata": {},
   "source": [
    "<a name=\"#1\"></a>\n",
    "# 1 - Packages"
   ]
  },
  {
   "cell_type": "code",
   "execution_count": null,
   "id": "6c936c5a",
   "metadata": {},
   "outputs": [],
   "source": [
    "import numpy as np\n",
    "import numpy.ma as ma\n",
    "import pandas as pd\n",
    "import tensorflow as tf\n",
    "from tensorflow import keras\n",
    "from sklearn.preprocessing import StandardScaler, MinMaxScaler\n",
    "from sklearn.model_selection import train_test_split\n",
    "import tabulate\n"
   ]
  },
  {
   "cell_type": "code",
   "execution_count": null,
   "id": "5ee5fa4a",
   "metadata": {},
   "outputs": [],
   "source": []
  }
 ],
 "metadata": {
  "kernelspec": {
   "display_name": "Python 3 (ipykernel)",
   "language": "python",
   "name": "python3"
  },
  "language_info": {
   "codemirror_mode": {
    "name": "ipython",
    "version": 3
   },
   "file_extension": ".py",
   "mimetype": "text/x-python",
   "name": "python",
   "nbconvert_exporter": "python",
   "pygments_lexer": "ipython3",
   "version": "3.10.10"
  }
 },
 "nbformat": 4,
 "nbformat_minor": 5
}
